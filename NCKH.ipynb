{
 "cells": [
  {
   "cell_type": "code",
   "execution_count": 972,
   "id": "fa6ce8e0-c4d1-4523-95aa-0dc4caabadf4",
   "metadata": {},
   "outputs": [],
   "source": [
    "import os\n",
    "import numpy as np\n",
    "import pandas as pd\n",
    "import matplotlib.pyplot as plt"
   ]
  },
  {
   "cell_type": "code",
   "execution_count": 973,
   "id": "eaaed558-9d37-4362-a23d-f519bbc9d7a4",
   "metadata": {},
   "outputs": [
    {
     "name": "stdout",
     "output_type": "stream",
     "text": [
      "<class 'pandas.core.frame.DataFrame'>\n",
      "RangeIndex: 7043 entries, 0 to 7042\n",
      "Data columns (total 21 columns):\n",
      " #   Column            Non-Null Count  Dtype  \n",
      "---  ------            --------------  -----  \n",
      " 0   customerID        7043 non-null   object \n",
      " 1   gender            7043 non-null   object \n",
      " 2   SeniorCitizen     7043 non-null   int64  \n",
      " 3   Partner           7043 non-null   object \n",
      " 4   Dependents        7043 non-null   object \n",
      " 5   tenure            7043 non-null   int64  \n",
      " 6   PhoneService      7043 non-null   object \n",
      " 7   MultipleLines     7043 non-null   object \n",
      " 8   InternetService   7043 non-null   object \n",
      " 9   OnlineSecurity    7043 non-null   object \n",
      " 10  OnlineBackup      7043 non-null   object \n",
      " 11  DeviceProtection  7043 non-null   object \n",
      " 12  TechSupport       7043 non-null   object \n",
      " 13  StreamingTV       7043 non-null   object \n",
      " 14  StreamingMovies   7043 non-null   object \n",
      " 15  Contract          7043 non-null   object \n",
      " 16  PaperlessBilling  7043 non-null   object \n",
      " 17  PaymentMethod     7043 non-null   object \n",
      " 18  MonthlyCharges    7043 non-null   float64\n",
      " 19  TotalCharges      7043 non-null   object \n",
      " 20  Churn             7043 non-null   object \n",
      "dtypes: float64(1), int64(2), object(18)\n",
      "memory usage: 1.1+ MB\n"
     ]
    }
   ],
   "source": [
    "#đọc file CSV\n",
    "data = pd.read_csv('WA_Fn-UseC_-Telco-Customer-Churn (1).csv')\n",
    "data.info()"
   ]
  },
  {
   "cell_type": "code",
   "execution_count": 974,
   "id": "ff239590-0d43-4036-8db6-0dc8974eff67",
   "metadata": {},
   "outputs": [
    {
     "data": {
      "text/html": [
       "<div>\n",
       "<style scoped>\n",
       "    .dataframe tbody tr th:only-of-type {\n",
       "        vertical-align: middle;\n",
       "    }\n",
       "\n",
       "    .dataframe tbody tr th {\n",
       "        vertical-align: top;\n",
       "    }\n",
       "\n",
       "    .dataframe thead th {\n",
       "        text-align: right;\n",
       "    }\n",
       "</style>\n",
       "<table border=\"1\" class=\"dataframe\">\n",
       "  <thead>\n",
       "    <tr style=\"text-align: right;\">\n",
       "      <th></th>\n",
       "      <th>customerID</th>\n",
       "      <th>gender</th>\n",
       "      <th>SeniorCitizen</th>\n",
       "      <th>Partner</th>\n",
       "      <th>Dependents</th>\n",
       "      <th>tenure</th>\n",
       "      <th>PhoneService</th>\n",
       "      <th>MultipleLines</th>\n",
       "      <th>InternetService</th>\n",
       "      <th>OnlineSecurity</th>\n",
       "      <th>...</th>\n",
       "      <th>DeviceProtection</th>\n",
       "      <th>TechSupport</th>\n",
       "      <th>StreamingTV</th>\n",
       "      <th>StreamingMovies</th>\n",
       "      <th>Contract</th>\n",
       "      <th>PaperlessBilling</th>\n",
       "      <th>PaymentMethod</th>\n",
       "      <th>MonthlyCharges</th>\n",
       "      <th>TotalCharges</th>\n",
       "      <th>Churn</th>\n",
       "    </tr>\n",
       "  </thead>\n",
       "  <tbody>\n",
       "    <tr>\n",
       "      <th>0</th>\n",
       "      <td>7590-VHVEG</td>\n",
       "      <td>Female</td>\n",
       "      <td>0</td>\n",
       "      <td>Yes</td>\n",
       "      <td>No</td>\n",
       "      <td>1</td>\n",
       "      <td>No</td>\n",
       "      <td>No phone service</td>\n",
       "      <td>DSL</td>\n",
       "      <td>No</td>\n",
       "      <td>...</td>\n",
       "      <td>No</td>\n",
       "      <td>No</td>\n",
       "      <td>No</td>\n",
       "      <td>No</td>\n",
       "      <td>Month-to-month</td>\n",
       "      <td>Yes</td>\n",
       "      <td>Electronic check</td>\n",
       "      <td>29.85</td>\n",
       "      <td>29.85</td>\n",
       "      <td>No</td>\n",
       "    </tr>\n",
       "    <tr>\n",
       "      <th>1</th>\n",
       "      <td>5575-GNVDE</td>\n",
       "      <td>Male</td>\n",
       "      <td>0</td>\n",
       "      <td>No</td>\n",
       "      <td>No</td>\n",
       "      <td>34</td>\n",
       "      <td>Yes</td>\n",
       "      <td>No</td>\n",
       "      <td>DSL</td>\n",
       "      <td>Yes</td>\n",
       "      <td>...</td>\n",
       "      <td>Yes</td>\n",
       "      <td>No</td>\n",
       "      <td>No</td>\n",
       "      <td>No</td>\n",
       "      <td>One year</td>\n",
       "      <td>No</td>\n",
       "      <td>Mailed check</td>\n",
       "      <td>56.95</td>\n",
       "      <td>1889.5</td>\n",
       "      <td>No</td>\n",
       "    </tr>\n",
       "    <tr>\n",
       "      <th>2</th>\n",
       "      <td>3668-QPYBK</td>\n",
       "      <td>Male</td>\n",
       "      <td>0</td>\n",
       "      <td>No</td>\n",
       "      <td>No</td>\n",
       "      <td>2</td>\n",
       "      <td>Yes</td>\n",
       "      <td>No</td>\n",
       "      <td>DSL</td>\n",
       "      <td>Yes</td>\n",
       "      <td>...</td>\n",
       "      <td>No</td>\n",
       "      <td>No</td>\n",
       "      <td>No</td>\n",
       "      <td>No</td>\n",
       "      <td>Month-to-month</td>\n",
       "      <td>Yes</td>\n",
       "      <td>Mailed check</td>\n",
       "      <td>53.85</td>\n",
       "      <td>108.15</td>\n",
       "      <td>Yes</td>\n",
       "    </tr>\n",
       "    <tr>\n",
       "      <th>3</th>\n",
       "      <td>7795-CFOCW</td>\n",
       "      <td>Male</td>\n",
       "      <td>0</td>\n",
       "      <td>No</td>\n",
       "      <td>No</td>\n",
       "      <td>45</td>\n",
       "      <td>No</td>\n",
       "      <td>No phone service</td>\n",
       "      <td>DSL</td>\n",
       "      <td>Yes</td>\n",
       "      <td>...</td>\n",
       "      <td>Yes</td>\n",
       "      <td>Yes</td>\n",
       "      <td>No</td>\n",
       "      <td>No</td>\n",
       "      <td>One year</td>\n",
       "      <td>No</td>\n",
       "      <td>Bank transfer (automatic)</td>\n",
       "      <td>42.30</td>\n",
       "      <td>1840.75</td>\n",
       "      <td>No</td>\n",
       "    </tr>\n",
       "    <tr>\n",
       "      <th>4</th>\n",
       "      <td>9237-HQITU</td>\n",
       "      <td>Female</td>\n",
       "      <td>0</td>\n",
       "      <td>No</td>\n",
       "      <td>No</td>\n",
       "      <td>2</td>\n",
       "      <td>Yes</td>\n",
       "      <td>No</td>\n",
       "      <td>Fiber optic</td>\n",
       "      <td>No</td>\n",
       "      <td>...</td>\n",
       "      <td>No</td>\n",
       "      <td>No</td>\n",
       "      <td>No</td>\n",
       "      <td>No</td>\n",
       "      <td>Month-to-month</td>\n",
       "      <td>Yes</td>\n",
       "      <td>Electronic check</td>\n",
       "      <td>70.70</td>\n",
       "      <td>151.65</td>\n",
       "      <td>Yes</td>\n",
       "    </tr>\n",
       "  </tbody>\n",
       "</table>\n",
       "<p>5 rows × 21 columns</p>\n",
       "</div>"
      ],
      "text/plain": [
       "   customerID  gender  SeniorCitizen Partner Dependents  tenure PhoneService  \\\n",
       "0  7590-VHVEG  Female              0     Yes         No       1           No   \n",
       "1  5575-GNVDE    Male              0      No         No      34          Yes   \n",
       "2  3668-QPYBK    Male              0      No         No       2          Yes   \n",
       "3  7795-CFOCW    Male              0      No         No      45           No   \n",
       "4  9237-HQITU  Female              0      No         No       2          Yes   \n",
       "\n",
       "      MultipleLines InternetService OnlineSecurity  ... DeviceProtection  \\\n",
       "0  No phone service             DSL             No  ...               No   \n",
       "1                No             DSL            Yes  ...              Yes   \n",
       "2                No             DSL            Yes  ...               No   \n",
       "3  No phone service             DSL            Yes  ...              Yes   \n",
       "4                No     Fiber optic             No  ...               No   \n",
       "\n",
       "  TechSupport StreamingTV StreamingMovies        Contract PaperlessBilling  \\\n",
       "0          No          No              No  Month-to-month              Yes   \n",
       "1          No          No              No        One year               No   \n",
       "2          No          No              No  Month-to-month              Yes   \n",
       "3         Yes          No              No        One year               No   \n",
       "4          No          No              No  Month-to-month              Yes   \n",
       "\n",
       "               PaymentMethod MonthlyCharges  TotalCharges Churn  \n",
       "0           Electronic check          29.85         29.85    No  \n",
       "1               Mailed check          56.95        1889.5    No  \n",
       "2               Mailed check          53.85        108.15   Yes  \n",
       "3  Bank transfer (automatic)          42.30       1840.75    No  \n",
       "4           Electronic check          70.70        151.65   Yes  \n",
       "\n",
       "[5 rows x 21 columns]"
      ]
     },
     "execution_count": 974,
     "metadata": {},
     "output_type": "execute_result"
    }
   ],
   "source": [
    "#Hiển thị 5 dòng đầu tiên trong data\n",
    "data.head()"
   ]
  },
  {
   "cell_type": "code",
   "execution_count": 975,
   "id": "92057e9e-eeba-4429-b8cd-40525ee94935",
   "metadata": {},
   "outputs": [
    {
     "data": {
      "text/html": [
       "<div>\n",
       "<style scoped>\n",
       "    .dataframe tbody tr th:only-of-type {\n",
       "        vertical-align: middle;\n",
       "    }\n",
       "\n",
       "    .dataframe tbody tr th {\n",
       "        vertical-align: top;\n",
       "    }\n",
       "\n",
       "    .dataframe thead th {\n",
       "        text-align: right;\n",
       "    }\n",
       "</style>\n",
       "<table border=\"1\" class=\"dataframe\">\n",
       "  <thead>\n",
       "    <tr style=\"text-align: right;\">\n",
       "      <th></th>\n",
       "      <th>customerID</th>\n",
       "      <th>gender</th>\n",
       "      <th>SeniorCitizen</th>\n",
       "      <th>Partner</th>\n",
       "      <th>Dependents</th>\n",
       "      <th>tenure</th>\n",
       "      <th>PhoneService</th>\n",
       "      <th>MultipleLines</th>\n",
       "      <th>InternetService</th>\n",
       "      <th>OnlineSecurity</th>\n",
       "      <th>...</th>\n",
       "      <th>DeviceProtection</th>\n",
       "      <th>TechSupport</th>\n",
       "      <th>StreamingTV</th>\n",
       "      <th>StreamingMovies</th>\n",
       "      <th>Contract</th>\n",
       "      <th>PaperlessBilling</th>\n",
       "      <th>PaymentMethod</th>\n",
       "      <th>MonthlyCharges</th>\n",
       "      <th>TotalCharges</th>\n",
       "      <th>Churn</th>\n",
       "    </tr>\n",
       "  </thead>\n",
       "  <tbody>\n",
       "    <tr>\n",
       "      <th>7038</th>\n",
       "      <td>6840-RESVB</td>\n",
       "      <td>Male</td>\n",
       "      <td>0</td>\n",
       "      <td>Yes</td>\n",
       "      <td>Yes</td>\n",
       "      <td>24</td>\n",
       "      <td>Yes</td>\n",
       "      <td>Yes</td>\n",
       "      <td>DSL</td>\n",
       "      <td>Yes</td>\n",
       "      <td>...</td>\n",
       "      <td>Yes</td>\n",
       "      <td>Yes</td>\n",
       "      <td>Yes</td>\n",
       "      <td>Yes</td>\n",
       "      <td>One year</td>\n",
       "      <td>Yes</td>\n",
       "      <td>Mailed check</td>\n",
       "      <td>84.80</td>\n",
       "      <td>1990.5</td>\n",
       "      <td>No</td>\n",
       "    </tr>\n",
       "    <tr>\n",
       "      <th>7039</th>\n",
       "      <td>2234-XADUH</td>\n",
       "      <td>Female</td>\n",
       "      <td>0</td>\n",
       "      <td>Yes</td>\n",
       "      <td>Yes</td>\n",
       "      <td>72</td>\n",
       "      <td>Yes</td>\n",
       "      <td>Yes</td>\n",
       "      <td>Fiber optic</td>\n",
       "      <td>No</td>\n",
       "      <td>...</td>\n",
       "      <td>Yes</td>\n",
       "      <td>No</td>\n",
       "      <td>Yes</td>\n",
       "      <td>Yes</td>\n",
       "      <td>One year</td>\n",
       "      <td>Yes</td>\n",
       "      <td>Credit card (automatic)</td>\n",
       "      <td>103.20</td>\n",
       "      <td>7362.9</td>\n",
       "      <td>No</td>\n",
       "    </tr>\n",
       "    <tr>\n",
       "      <th>7040</th>\n",
       "      <td>4801-JZAZL</td>\n",
       "      <td>Female</td>\n",
       "      <td>0</td>\n",
       "      <td>Yes</td>\n",
       "      <td>Yes</td>\n",
       "      <td>11</td>\n",
       "      <td>No</td>\n",
       "      <td>No phone service</td>\n",
       "      <td>DSL</td>\n",
       "      <td>Yes</td>\n",
       "      <td>...</td>\n",
       "      <td>No</td>\n",
       "      <td>No</td>\n",
       "      <td>No</td>\n",
       "      <td>No</td>\n",
       "      <td>Month-to-month</td>\n",
       "      <td>Yes</td>\n",
       "      <td>Electronic check</td>\n",
       "      <td>29.60</td>\n",
       "      <td>346.45</td>\n",
       "      <td>No</td>\n",
       "    </tr>\n",
       "    <tr>\n",
       "      <th>7041</th>\n",
       "      <td>8361-LTMKD</td>\n",
       "      <td>Male</td>\n",
       "      <td>1</td>\n",
       "      <td>Yes</td>\n",
       "      <td>No</td>\n",
       "      <td>4</td>\n",
       "      <td>Yes</td>\n",
       "      <td>Yes</td>\n",
       "      <td>Fiber optic</td>\n",
       "      <td>No</td>\n",
       "      <td>...</td>\n",
       "      <td>No</td>\n",
       "      <td>No</td>\n",
       "      <td>No</td>\n",
       "      <td>No</td>\n",
       "      <td>Month-to-month</td>\n",
       "      <td>Yes</td>\n",
       "      <td>Mailed check</td>\n",
       "      <td>74.40</td>\n",
       "      <td>306.6</td>\n",
       "      <td>Yes</td>\n",
       "    </tr>\n",
       "    <tr>\n",
       "      <th>7042</th>\n",
       "      <td>3186-AJIEK</td>\n",
       "      <td>Male</td>\n",
       "      <td>0</td>\n",
       "      <td>No</td>\n",
       "      <td>No</td>\n",
       "      <td>66</td>\n",
       "      <td>Yes</td>\n",
       "      <td>No</td>\n",
       "      <td>Fiber optic</td>\n",
       "      <td>Yes</td>\n",
       "      <td>...</td>\n",
       "      <td>Yes</td>\n",
       "      <td>Yes</td>\n",
       "      <td>Yes</td>\n",
       "      <td>Yes</td>\n",
       "      <td>Two year</td>\n",
       "      <td>Yes</td>\n",
       "      <td>Bank transfer (automatic)</td>\n",
       "      <td>105.65</td>\n",
       "      <td>6844.5</td>\n",
       "      <td>No</td>\n",
       "    </tr>\n",
       "  </tbody>\n",
       "</table>\n",
       "<p>5 rows × 21 columns</p>\n",
       "</div>"
      ],
      "text/plain": [
       "      customerID  gender  SeniorCitizen Partner Dependents  tenure  \\\n",
       "7038  6840-RESVB    Male              0     Yes        Yes      24   \n",
       "7039  2234-XADUH  Female              0     Yes        Yes      72   \n",
       "7040  4801-JZAZL  Female              0     Yes        Yes      11   \n",
       "7041  8361-LTMKD    Male              1     Yes         No       4   \n",
       "7042  3186-AJIEK    Male              0      No         No      66   \n",
       "\n",
       "     PhoneService     MultipleLines InternetService OnlineSecurity  ...  \\\n",
       "7038          Yes               Yes             DSL            Yes  ...   \n",
       "7039          Yes               Yes     Fiber optic             No  ...   \n",
       "7040           No  No phone service             DSL            Yes  ...   \n",
       "7041          Yes               Yes     Fiber optic             No  ...   \n",
       "7042          Yes                No     Fiber optic            Yes  ...   \n",
       "\n",
       "     DeviceProtection TechSupport StreamingTV StreamingMovies        Contract  \\\n",
       "7038              Yes         Yes         Yes             Yes        One year   \n",
       "7039              Yes          No         Yes             Yes        One year   \n",
       "7040               No          No          No              No  Month-to-month   \n",
       "7041               No          No          No              No  Month-to-month   \n",
       "7042              Yes         Yes         Yes             Yes        Two year   \n",
       "\n",
       "     PaperlessBilling              PaymentMethod MonthlyCharges  TotalCharges  \\\n",
       "7038              Yes               Mailed check          84.80        1990.5   \n",
       "7039              Yes    Credit card (automatic)         103.20        7362.9   \n",
       "7040              Yes           Electronic check          29.60        346.45   \n",
       "7041              Yes               Mailed check          74.40         306.6   \n",
       "7042              Yes  Bank transfer (automatic)         105.65        6844.5   \n",
       "\n",
       "     Churn  \n",
       "7038    No  \n",
       "7039    No  \n",
       "7040    No  \n",
       "7041   Yes  \n",
       "7042    No  \n",
       "\n",
       "[5 rows x 21 columns]"
      ]
     },
     "execution_count": 975,
     "metadata": {},
     "output_type": "execute_result"
    }
   ],
   "source": [
    "# Hiển thị 5 dòng cuối cùng\n",
    "data.tail()"
   ]
  },
  {
   "cell_type": "code",
   "execution_count": 976,
   "id": "228242fb-1be7-45f4-af8c-a8d8a3d5f55c",
   "metadata": {},
   "outputs": [
    {
     "data": {
      "text/plain": [
       "customerID          0\n",
       "gender              0\n",
       "SeniorCitizen       0\n",
       "Partner             0\n",
       "Dependents          0\n",
       "tenure              0\n",
       "PhoneService        0\n",
       "MultipleLines       0\n",
       "InternetService     0\n",
       "OnlineSecurity      0\n",
       "OnlineBackup        0\n",
       "DeviceProtection    0\n",
       "TechSupport         0\n",
       "StreamingTV         0\n",
       "StreamingMovies     0\n",
       "Contract            0\n",
       "PaperlessBilling    0\n",
       "PaymentMethod       0\n",
       "MonthlyCharges      0\n",
       "TotalCharges        0\n",
       "Churn               0\n",
       "dtype: int64"
      ]
     },
     "execution_count": 976,
     "metadata": {},
     "output_type": "execute_result"
    }
   ],
   "source": [
    "\n",
    "data.isnull().sum()"
   ]
  },
  {
   "cell_type": "code",
   "execution_count": 977,
   "id": "92f2b2e2-05aa-486c-af26-e269a47538fc",
   "metadata": {},
   "outputs": [
    {
     "name": "stdout",
     "output_type": "stream",
     "text": [
      "<class 'pandas.core.frame.DataFrame'>\n",
      "RangeIndex: 7043 entries, 0 to 7042\n",
      "Data columns (total 21 columns):\n",
      " #   Column            Non-Null Count  Dtype  \n",
      "---  ------            --------------  -----  \n",
      " 0   customerID        7043 non-null   object \n",
      " 1   gender            7043 non-null   object \n",
      " 2   SeniorCitizen     7043 non-null   int64  \n",
      " 3   Partner           7043 non-null   object \n",
      " 4   Dependents        7043 non-null   object \n",
      " 5   tenure            7043 non-null   int64  \n",
      " 6   PhoneService      7043 non-null   object \n",
      " 7   MultipleLines     7043 non-null   object \n",
      " 8   InternetService   7043 non-null   object \n",
      " 9   OnlineSecurity    7043 non-null   object \n",
      " 10  OnlineBackup      7043 non-null   object \n",
      " 11  DeviceProtection  7043 non-null   object \n",
      " 12  TechSupport       7043 non-null   object \n",
      " 13  StreamingTV       7043 non-null   object \n",
      " 14  StreamingMovies   7043 non-null   object \n",
      " 15  Contract          7043 non-null   object \n",
      " 16  PaperlessBilling  7043 non-null   object \n",
      " 17  PaymentMethod     7043 non-null   object \n",
      " 18  MonthlyCharges    7043 non-null   float64\n",
      " 19  TotalCharges      7043 non-null   object \n",
      " 20  Churn             7043 non-null   object \n",
      "dtypes: float64(1), int64(2), object(18)\n",
      "memory usage: 1.1+ MB\n"
     ]
    }
   ],
   "source": [
    "data.info()"
   ]
  },
  {
   "cell_type": "code",
   "execution_count": 978,
   "id": "f154e9a3-4cfa-4c60-9acf-c2b4379cb416",
   "metadata": {},
   "outputs": [
    {
     "name": "stdout",
     "output_type": "stream",
     "text": [
      "<class 'pandas.core.frame.DataFrame'>\n",
      "Index: 7032 entries, 0 to 7042\n",
      "Data columns (total 21 columns):\n",
      " #   Column            Non-Null Count  Dtype  \n",
      "---  ------            --------------  -----  \n",
      " 0   customerID        7032 non-null   object \n",
      " 1   gender            7032 non-null   object \n",
      " 2   SeniorCitizen     7032 non-null   int64  \n",
      " 3   Partner           7032 non-null   object \n",
      " 4   Dependents        7032 non-null   object \n",
      " 5   tenure            7032 non-null   int64  \n",
      " 6   PhoneService      7032 non-null   object \n",
      " 7   MultipleLines     7032 non-null   object \n",
      " 8   InternetService   7032 non-null   object \n",
      " 9   OnlineSecurity    7032 non-null   object \n",
      " 10  OnlineBackup      7032 non-null   object \n",
      " 11  DeviceProtection  7032 non-null   object \n",
      " 12  TechSupport       7032 non-null   object \n",
      " 13  StreamingTV       7032 non-null   object \n",
      " 14  StreamingMovies   7032 non-null   object \n",
      " 15  Contract          7032 non-null   object \n",
      " 16  PaperlessBilling  7032 non-null   object \n",
      " 17  PaymentMethod     7032 non-null   object \n",
      " 18  MonthlyCharges    7032 non-null   float64\n",
      " 19  TotalCharges      7032 non-null   object \n",
      " 20  Churn             7032 non-null   object \n",
      "dtypes: float64(1), int64(2), object(18)\n",
      "memory usage: 1.2+ MB\n"
     ]
    }
   ],
   "source": [
    "#Vì có những cột Tenure(số tháng khách hàng đã ở lại) == 0 nên sẽ phải lọc các bản ghi đó ra\n",
    "data[data.tenure != 0].info()\n",
    "# Có 11 bản ghi\n",
    "data = data[data.tenure != 0]"
   ]
  },
  {
   "cell_type": "code",
   "execution_count": 979,
   "id": "9e58fc58-b1a9-4a36-b148-a0664aa2a6de",
   "metadata": {},
   "outputs": [
    {
     "name": "stdout",
     "output_type": "stream",
     "text": [
      "<class 'pandas.core.frame.DataFrame'>\n",
      "Index: 7032 entries, 0 to 7042\n",
      "Data columns (total 21 columns):\n",
      " #   Column            Non-Null Count  Dtype  \n",
      "---  ------            --------------  -----  \n",
      " 0   customerID        7032 non-null   object \n",
      " 1   gender            7032 non-null   object \n",
      " 2   SeniorCitizen     7032 non-null   int64  \n",
      " 3   Partner           7032 non-null   object \n",
      " 4   Dependents        7032 non-null   object \n",
      " 5   tenure            7032 non-null   int64  \n",
      " 6   PhoneService      7032 non-null   object \n",
      " 7   MultipleLines     7032 non-null   object \n",
      " 8   InternetService   7032 non-null   object \n",
      " 9   OnlineSecurity    7032 non-null   object \n",
      " 10  OnlineBackup      7032 non-null   object \n",
      " 11  DeviceProtection  7032 non-null   object \n",
      " 12  TechSupport       7032 non-null   object \n",
      " 13  StreamingTV       7032 non-null   object \n",
      " 14  StreamingMovies   7032 non-null   object \n",
      " 15  Contract          7032 non-null   object \n",
      " 16  PaperlessBilling  7032 non-null   object \n",
      " 17  PaymentMethod     7032 non-null   object \n",
      " 18  MonthlyCharges    7032 non-null   float64\n",
      " 19  TotalCharges      7032 non-null   object \n",
      " 20  Churn             7032 non-null   object \n",
      "dtypes: float64(1), int64(2), object(18)\n",
      "memory usage: 1.2+ MB\n"
     ]
    }
   ],
   "source": [
    "data.info()"
   ]
  },
  {
   "cell_type": "code",
   "execution_count": 980,
   "id": "117d4c90-42b6-4ab8-8460-4ae5bb8a2983",
   "metadata": {},
   "outputs": [],
   "source": [
    "# Chuyển đỏi kiểu dữ liệu cho TotalCharges\n",
    "data['TotalCharges'] = pd.to_numeric(data['TotalCharges'])"
   ]
  },
  {
   "cell_type": "code",
   "execution_count": 981,
   "id": "a6587ba6-4261-4712-a24e-a8cace05e692",
   "metadata": {},
   "outputs": [
    {
     "name": "stdout",
     "output_type": "stream",
     "text": [
      "<class 'pandas.core.frame.DataFrame'>\n",
      "Index: 7032 entries, 0 to 7042\n",
      "Data columns (total 21 columns):\n",
      " #   Column            Non-Null Count  Dtype  \n",
      "---  ------            --------------  -----  \n",
      " 0   customerID        7032 non-null   object \n",
      " 1   gender            7032 non-null   object \n",
      " 2   SeniorCitizen     7032 non-null   int64  \n",
      " 3   Partner           7032 non-null   object \n",
      " 4   Dependents        7032 non-null   object \n",
      " 5   tenure            7032 non-null   int64  \n",
      " 6   PhoneService      7032 non-null   object \n",
      " 7   MultipleLines     7032 non-null   object \n",
      " 8   InternetService   7032 non-null   object \n",
      " 9   OnlineSecurity    7032 non-null   object \n",
      " 10  OnlineBackup      7032 non-null   object \n",
      " 11  DeviceProtection  7032 non-null   object \n",
      " 12  TechSupport       7032 non-null   object \n",
      " 13  StreamingTV       7032 non-null   object \n",
      " 14  StreamingMovies   7032 non-null   object \n",
      " 15  Contract          7032 non-null   object \n",
      " 16  PaperlessBilling  7032 non-null   object \n",
      " 17  PaymentMethod     7032 non-null   object \n",
      " 18  MonthlyCharges    7032 non-null   float64\n",
      " 19  TotalCharges      7032 non-null   float64\n",
      " 20  Churn             7032 non-null   object \n",
      "dtypes: float64(2), int64(2), object(17)\n",
      "memory usage: 1.2+ MB\n"
     ]
    }
   ],
   "source": [
    "data.info()"
   ]
  },
  {
   "cell_type": "code",
   "execution_count": 982,
   "id": "7432dd9b-81b0-449f-8a94-7b48f012c01d",
   "metadata": {},
   "outputs": [
    {
     "data": {
      "text/html": [
       "<div>\n",
       "<style scoped>\n",
       "    .dataframe tbody tr th:only-of-type {\n",
       "        vertical-align: middle;\n",
       "    }\n",
       "\n",
       "    .dataframe tbody tr th {\n",
       "        vertical-align: top;\n",
       "    }\n",
       "\n",
       "    .dataframe thead th {\n",
       "        text-align: right;\n",
       "    }\n",
       "</style>\n",
       "<table border=\"1\" class=\"dataframe\">\n",
       "  <thead>\n",
       "    <tr style=\"text-align: right;\">\n",
       "      <th></th>\n",
       "      <th>customerID</th>\n",
       "      <th>gender</th>\n",
       "      <th>SeniorCitizen</th>\n",
       "      <th>Partner</th>\n",
       "      <th>Dependents</th>\n",
       "      <th>tenure</th>\n",
       "      <th>PhoneService</th>\n",
       "      <th>MultipleLines</th>\n",
       "      <th>InternetService</th>\n",
       "      <th>OnlineSecurity</th>\n",
       "      <th>...</th>\n",
       "      <th>DeviceProtection</th>\n",
       "      <th>TechSupport</th>\n",
       "      <th>StreamingTV</th>\n",
       "      <th>StreamingMovies</th>\n",
       "      <th>Contract</th>\n",
       "      <th>PaperlessBilling</th>\n",
       "      <th>PaymentMethod</th>\n",
       "      <th>MonthlyCharges</th>\n",
       "      <th>TotalCharges</th>\n",
       "      <th>Churn</th>\n",
       "    </tr>\n",
       "  </thead>\n",
       "  <tbody>\n",
       "  </tbody>\n",
       "</table>\n",
       "<p>0 rows × 21 columns</p>\n",
       "</div>"
      ],
      "text/plain": [
       "Empty DataFrame\n",
       "Columns: [customerID, gender, SeniorCitizen, Partner, Dependents, tenure, PhoneService, MultipleLines, InternetService, OnlineSecurity, OnlineBackup, DeviceProtection, TechSupport, StreamingTV, StreamingMovies, Contract, PaperlessBilling, PaymentMethod, MonthlyCharges, TotalCharges, Churn]\n",
       "Index: []\n",
       "\n",
       "[0 rows x 21 columns]"
      ]
     },
     "metadata": {},
     "output_type": "display_data"
    },
    {
     "name": "stdout",
     "output_type": "stream",
     "text": [
      "Tổng số dòng không có dữ liệu: 0\n"
     ]
    }
   ],
   "source": [
    "nan_df = data[data.isna().any(axis=1)]\n",
    "display(nan_df.head())\n",
    "print('Tổng số dòng không có dữ liệu:', nan_df.shape[0])"
   ]
  },
  {
   "cell_type": "code",
   "execution_count": 983,
   "id": "7fc096e2-b779-47d7-bb20-108befcb7788",
   "metadata": {},
   "outputs": [],
   "source": [
    "# Xóa cột thông tin không cần thiết\n",
    "# Xóa customer ID vì nó là giá trị riêng của từng khách hàng không làm ảnh hưởng tập dữ liệu\n",
    "data = data.drop('customerID', axis=1)"
   ]
  },
  {
   "cell_type": "markdown",
   "id": "58999d25-7964-4de0-b897-ee8ce309870f",
   "metadata": {},
   "source": [
    "# Thông tin của từng cột"
   ]
  },
  {
   "cell_type": "code",
   "execution_count": 985,
   "id": "e809c2d4-8393-4f74-abb9-25a3245fd830",
   "metadata": {},
   "outputs": [
    {
     "name": "stdout",
     "output_type": "stream",
     "text": [
      "Index(['SeniorCitizen', 'Partner', 'Dependents', 'tenure', 'PhoneService',\n",
      "       'MultipleLines', 'InternetService', 'OnlineSecurity', 'OnlineBackup',\n",
      "       'DeviceProtection', 'TechSupport', 'StreamingTV', 'StreamingMovies',\n",
      "       'Contract', 'PaperlessBilling', 'PaymentMethod', 'MonthlyCharges',\n",
      "       'TotalCharges', 'Churn'],\n",
      "      dtype='object')\n"
     ]
    }
   ],
   "source": [
    "labels = data.columns[1:]\n",
    "print(labels)"
   ]
  },
  {
   "cell_type": "code",
   "execution_count": 986,
   "id": "aaebdcec-5ca7-4f33-a058-e12b754b7022",
   "metadata": {},
   "outputs": [
    {
     "name": "stdout",
     "output_type": "stream",
     "text": [
      "SeniorCitizen\n",
      "0    5890\n",
      "1    1142\n",
      "Name: count, dtype: int64 \n",
      "\n",
      "Partner\n",
      "No     3639\n",
      "Yes    3393\n",
      "Name: count, dtype: int64 \n",
      "\n",
      "Dependents\n",
      "No     4933\n",
      "Yes    2099\n",
      "Name: count, dtype: int64 \n",
      "\n",
      "tenure\n",
      "1     613\n",
      "72    362\n",
      "2     238\n",
      "3     200\n",
      "4     176\n",
      "     ... \n",
      "38     59\n",
      "28     57\n",
      "39     56\n",
      "44     51\n",
      "36     50\n",
      "Name: count, Length: 72, dtype: int64 \n",
      "\n",
      "PhoneService\n",
      "Yes    6352\n",
      "No      680\n",
      "Name: count, dtype: int64 \n",
      "\n",
      "MultipleLines\n",
      "No                  3385\n",
      "Yes                 2967\n",
      "No phone service     680\n",
      "Name: count, dtype: int64 \n",
      "\n",
      "InternetService\n",
      "Fiber optic    3096\n",
      "DSL            2416\n",
      "No             1520\n",
      "Name: count, dtype: int64 \n",
      "\n",
      "OnlineSecurity\n",
      "No                     3497\n",
      "Yes                    2015\n",
      "No internet service    1520\n",
      "Name: count, dtype: int64 \n",
      "\n",
      "OnlineBackup\n",
      "No                     3087\n",
      "Yes                    2425\n",
      "No internet service    1520\n",
      "Name: count, dtype: int64 \n",
      "\n",
      "DeviceProtection\n",
      "No                     3094\n",
      "Yes                    2418\n",
      "No internet service    1520\n",
      "Name: count, dtype: int64 \n",
      "\n",
      "TechSupport\n",
      "No                     3472\n",
      "Yes                    2040\n",
      "No internet service    1520\n",
      "Name: count, dtype: int64 \n",
      "\n",
      "StreamingTV\n",
      "No                     2809\n",
      "Yes                    2703\n",
      "No internet service    1520\n",
      "Name: count, dtype: int64 \n",
      "\n",
      "StreamingMovies\n",
      "No                     2781\n",
      "Yes                    2731\n",
      "No internet service    1520\n",
      "Name: count, dtype: int64 \n",
      "\n",
      "Contract\n",
      "Month-to-month    3875\n",
      "Two year          1685\n",
      "One year          1472\n",
      "Name: count, dtype: int64 \n",
      "\n",
      "PaperlessBilling\n",
      "Yes    4168\n",
      "No     2864\n",
      "Name: count, dtype: int64 \n",
      "\n",
      "PaymentMethod\n",
      "Electronic check             2365\n",
      "Mailed check                 1604\n",
      "Bank transfer (automatic)    1542\n",
      "Credit card (automatic)      1521\n",
      "Name: count, dtype: int64 \n",
      "\n",
      "MonthlyCharges\n",
      "20.05     61\n",
      "19.90     44\n",
      "19.95     44\n",
      "19.85     44\n",
      "19.65     43\n",
      "          ..\n",
      "23.65      1\n",
      "114.70     1\n",
      "43.65      1\n",
      "87.80      1\n",
      "78.70      1\n",
      "Name: count, Length: 1584, dtype: int64 \n",
      "\n",
      "TotalCharges\n",
      "20.20      11\n",
      "19.75       9\n",
      "20.05       8\n",
      "19.90       8\n",
      "19.65       8\n",
      "           ..\n",
      "6849.40     1\n",
      "692.35      1\n",
      "130.15      1\n",
      "3211.90     1\n",
      "6844.50     1\n",
      "Name: count, Length: 6530, dtype: int64 \n",
      "\n",
      "Churn\n",
      "No     5163\n",
      "Yes    1869\n",
      "Name: count, dtype: int64 \n",
      "\n"
     ]
    }
   ],
   "source": [
    "for i in labels:\n",
    "    print(data[i].value_counts(),'\\n');"
   ]
  },
  {
   "cell_type": "code",
   "execution_count": null,
   "id": "bf7feaf9-51cc-4584-a323-ccfd6f4e59d7",
   "metadata": {},
   "outputs": [],
   "source": []
  },
  {
   "cell_type": "markdown",
   "id": "0496880f-3411-4045-bd7d-8a7721a1f47e",
   "metadata": {},
   "source": [
    "# Việt hóa các dữ liệu trong bảng data"
   ]
  },
  {
   "cell_type": "code",
   "execution_count": 988,
   "id": "4b62ab2b-f221-4995-b179-dab423902770",
   "metadata": {},
   "outputs": [
    {
     "name": "stdout",
     "output_type": "stream",
     "text": [
      "<class 'pandas.core.frame.DataFrame'>\n",
      "Index: 7032 entries, 0 to 7042\n",
      "Data columns (total 20 columns):\n",
      " #   Column            Non-Null Count  Dtype  \n",
      "---  ------            --------------  -----  \n",
      " 0   gender            7032 non-null   object \n",
      " 1   SeniorCitizen     7032 non-null   int64  \n",
      " 2   Partner           7032 non-null   object \n",
      " 3   Dependents        7032 non-null   object \n",
      " 4   tenure            7032 non-null   int64  \n",
      " 5   PhoneService      7032 non-null   object \n",
      " 6   MultipleLines     7032 non-null   object \n",
      " 7   InternetService   7032 non-null   object \n",
      " 8   OnlineSecurity    7032 non-null   object \n",
      " 9   OnlineBackup      7032 non-null   object \n",
      " 10  DeviceProtection  7032 non-null   object \n",
      " 11  TechSupport       7032 non-null   object \n",
      " 12  StreamingTV       7032 non-null   object \n",
      " 13  StreamingMovies   7032 non-null   object \n",
      " 14  Contract          7032 non-null   object \n",
      " 15  PaperlessBilling  7032 non-null   object \n",
      " 16  PaymentMethod     7032 non-null   object \n",
      " 17  MonthlyCharges    7032 non-null   float64\n",
      " 18  TotalCharges      7032 non-null   float64\n",
      " 19  Churn             7032 non-null   object \n",
      "dtypes: float64(2), int64(2), object(16)\n",
      "memory usage: 1.1+ MB\n"
     ]
    }
   ],
   "source": [
    "data.info()"
   ]
  },
  {
   "cell_type": "code",
   "execution_count": 989,
   "id": "ae1aa2a9-c813-4aae-be5f-3c91764b9064",
   "metadata": {},
   "outputs": [],
   "source": [
    "data.rename(columns={\n",
    "    'gender':'Giới tính',\n",
    "    \n",
    "    'SeniorCitizen':'Người già',\n",
    "    \n",
    "    'Partner': 'Đối tác',\n",
    "    \n",
    "    'Dependents':'Phụ thuộc',\n",
    "    \n",
    "    'tenure':'Số tháng gắn bó',\n",
    "    \n",
    "    'PhoneService':'Dịch vụ điện thoại',\n",
    "    \n",
    "    'MultipleLines': 'Đa luồng',\n",
    "    \n",
    "    'InternetService':'Dịch vụ internet',\n",
    "    \n",
    "    'OnlineSecurity':'Bảo mật trực tuyến',\n",
    "    \n",
    "    'OnlineBackup':'Sao lưu trực tuyến',\n",
    "    \n",
    "    'DeviceProtection': 'Bảo vệ thiết bị',\n",
    "    \n",
    "    'TechSupport':'Hỗ trợ kỹ thuật',\n",
    "    \n",
    "    'StreamingTV':'TV trực tuyến',\n",
    "    \n",
    "    'StreamingMovies':'Phim trực tuyến',\n",
    "    \n",
    "    'Contract': 'Loại hợp đồng',\n",
    "    \n",
    "    'PaperlessBilling':'Thanh toán điện tử',\n",
    "\n",
    "    'PaymentMethod':'Phương thức thanh toán',\n",
    "    \n",
    "    'MonthlyCharges':'Phí hàng tháng',\n",
    "    \n",
    "    'TotalCharges': 'Tổng phí',\n",
    "    \n",
    "    'Churn':'Tình trạng khách hàng'\n",
    "\n",
    "}, inplace=True)"
   ]
  },
  {
   "cell_type": "code",
   "execution_count": 990,
   "id": "8797cca2-ea34-4f35-b99b-ecc8f7d831bf",
   "metadata": {},
   "outputs": [
    {
     "name": "stdout",
     "output_type": "stream",
     "text": [
      "<class 'pandas.core.frame.DataFrame'>\n",
      "Index: 7032 entries, 0 to 7042\n",
      "Data columns (total 20 columns):\n",
      " #   Column                  Non-Null Count  Dtype  \n",
      "---  ------                  --------------  -----  \n",
      " 0   Giới tính               7032 non-null   object \n",
      " 1   Người già               7032 non-null   int64  \n",
      " 2   Đối tác                 7032 non-null   object \n",
      " 3   Phụ thuộc               7032 non-null   object \n",
      " 4   Số tháng gắn bó         7032 non-null   int64  \n",
      " 5   Dịch vụ điện thoại      7032 non-null   object \n",
      " 6   Đa luồng                7032 non-null   object \n",
      " 7   Dịch vụ internet        7032 non-null   object \n",
      " 8   Bảo mật trực tuyến      7032 non-null   object \n",
      " 9   Sao lưu trực tuyến      7032 non-null   object \n",
      " 10  Bảo vệ thiết bị         7032 non-null   object \n",
      " 11  Hỗ trợ kỹ thuật         7032 non-null   object \n",
      " 12  TV trực tuyến           7032 non-null   object \n",
      " 13  Phim trực tuyến         7032 non-null   object \n",
      " 14  Loại hợp đồng           7032 non-null   object \n",
      " 15  Thanh toán điện tử      7032 non-null   object \n",
      " 16  Phương thức thanh toán  7032 non-null   object \n",
      " 17  Phí hàng tháng          7032 non-null   float64\n",
      " 18  Tổng phí                7032 non-null   float64\n",
      " 19  Tình trạng khách hàng   7032 non-null   object \n",
      "dtypes: float64(2), int64(2), object(16)\n",
      "memory usage: 1.1+ MB\n"
     ]
    }
   ],
   "source": [
    "data.info()"
   ]
  },
  {
   "cell_type": "code",
   "execution_count": 991,
   "id": "03124d6d-dfc1-4024-aa3e-6f016a6109dc",
   "metadata": {},
   "outputs": [],
   "source": [
    "data['Giới tính'] = data['Giới tính'].replace({\n",
    "    'Male' : 'Nam' ,\n",
    "    'Female' : 'Nữ' ,\n",
    "})"
   ]
  },
  {
   "cell_type": "code",
   "execution_count": 992,
   "id": "5a83876a-22ce-4405-84a5-bae96b4afe78",
   "metadata": {},
   "outputs": [],
   "source": [
    "data['Người già'] = data['Người già'].replace({\n",
    "    0 : 'Trẻ' ,\n",
    "    1 : 'Già' \n",
    "})"
   ]
  },
  {
   "cell_type": "code",
   "execution_count": 993,
   "id": "77f0ccc4-3e9e-4747-bd2b-462244d8cdf1",
   "metadata": {},
   "outputs": [],
   "source": [
    "data['Phụ thuộc'] = data['Phụ thuộc'].replace({\n",
    "    'Yes' : 'Có phụ thuộc' ,\n",
    "    'No' : 'Không có phụ thuộc' ,\n",
    "})"
   ]
  },
  {
   "cell_type": "code",
   "execution_count": 994,
   "id": "8272f7cd-8965-4a6a-8391-8cbb9ce9fbe4",
   "metadata": {},
   "outputs": [],
   "source": [
    "data['Đối tác'] = data['Đối tác'].replace({\n",
    "    'Yes' : 'Là đối tác' ,\n",
    "    'No' : 'Không là đối tác' ,\n",
    "})"
   ]
  },
  {
   "cell_type": "code",
   "execution_count": 995,
   "id": "94b9523b-cd74-406a-891d-12d9595db401",
   "metadata": {},
   "outputs": [],
   "source": [
    "data['Sao lưu trực tuyến'] = data['Bảo mật trực tuyến'] = data['Bảo vệ thiết bị'] = data['Hỗ trợ kỹ thuật'] = data['Phim trực tuyến'] = data['TV trực tuyến'] = data['TV trực tuyến'].replace({\n",
    "    'Yes': 'Sử dụng dịch vụ',\n",
    "    'No' : 'Không sử dụng dịch vụ',\n",
    "    'No internet service' : 'Không sử dụng dịch vụ internet'\n",
    "})"
   ]
  },
  {
   "cell_type": "code",
   "execution_count": 996,
   "id": "9af0a8b1-a5a6-47b6-84f9-01d85a0f81f9",
   "metadata": {},
   "outputs": [],
   "source": [
    "data['Dịch vụ điện thoại'] = data['Dịch vụ điện thoại'].replace({\n",
    "    'Yes': 'Sử dụng dịch vụ',\n",
    "    'No' : 'Không sử dụng dịch vụ'\n",
    "})\n",
    "data['Đa luồng'] = data['Đa luồng'].replace({\n",
    "    'Yes': 'Sử dụng dịch vụ',\n",
    "    'No' : 'Không sử dụng dịch vụ',\n",
    "    'No phone service' : 'Không sử dụng dịch vụ điện thoại'\n",
    "})\n",
    "# data[data.customerID == '7590-VHVEG']"
   ]
  },
  {
   "cell_type": "code",
   "execution_count": 997,
   "id": "5654f79b-1535-4674-a0e1-4436d29b0340",
   "metadata": {},
   "outputs": [],
   "source": [
    "data['Loại hợp đồng'] = data['Loại hợp đồng'].replace({\n",
    "    'Month-to-month': 'Từng tháng',\n",
    "    'Two year' : 'Hai năm',\n",
    "    'One year' : 'Từng năm'\n",
    "})"
   ]
  },
  {
   "cell_type": "code",
   "execution_count": 998,
   "id": "b74af2c9-80e1-4ac9-8880-7a52e66c5628",
   "metadata": {},
   "outputs": [],
   "source": [
    "data['Phương thức thanh toán'] = data['Phương thức thanh toán'].replace({\n",
    "    'Electronic check': 'Hóa đơn điện tử',\n",
    "    'Mailed check' : 'Gửi qua bưu điện',\n",
    "    'Bank transfer (automatic)' : 'Tự động qua giao dịch ngân hàng',\n",
    "    'Credit card (automatic)' : 'Tự động qua thẻ tin dụng'\n",
    "})"
   ]
  },
  {
   "cell_type": "code",
   "execution_count": 999,
   "id": "4d85c825-f67f-4738-b2eb-08378bc06dd3",
   "metadata": {},
   "outputs": [],
   "source": [
    "data['Thanh toán điện tử'] = data['Thanh toán điện tử'].replace({\n",
    "    'Yes': 'Sử dụng hóa đơn điện tử',\n",
    "    'No' : 'Không sử dụng hóa đơn điện tử'\n",
    "})"
   ]
  },
  {
   "cell_type": "code",
   "execution_count": 1000,
   "id": "4ec2ddd2-c44f-48e3-b057-ea3bb73a61ac",
   "metadata": {},
   "outputs": [],
   "source": [
    "data['Tình trạng khách hàng'] = data['Tình trạng khách hàng'].replace({\n",
    "    'Yes': 'Đã rời bỏ',\n",
    "    'No' : 'Ở lại'\n",
    "})"
   ]
  },
  {
   "cell_type": "code",
   "execution_count": 1001,
   "id": "359c91d3-90ee-4729-8c67-a40131d1bae0",
   "metadata": {},
   "outputs": [
    {
     "data": {
      "text/html": [
       "<div>\n",
       "<style scoped>\n",
       "    .dataframe tbody tr th:only-of-type {\n",
       "        vertical-align: middle;\n",
       "    }\n",
       "\n",
       "    .dataframe tbody tr th {\n",
       "        vertical-align: top;\n",
       "    }\n",
       "\n",
       "    .dataframe thead th {\n",
       "        text-align: right;\n",
       "    }\n",
       "</style>\n",
       "<table border=\"1\" class=\"dataframe\">\n",
       "  <thead>\n",
       "    <tr style=\"text-align: right;\">\n",
       "      <th></th>\n",
       "      <th>Giới tính</th>\n",
       "      <th>Người già</th>\n",
       "      <th>Đối tác</th>\n",
       "      <th>Phụ thuộc</th>\n",
       "      <th>Số tháng gắn bó</th>\n",
       "      <th>Dịch vụ điện thoại</th>\n",
       "      <th>Đa luồng</th>\n",
       "      <th>Dịch vụ internet</th>\n",
       "      <th>Bảo mật trực tuyến</th>\n",
       "      <th>Sao lưu trực tuyến</th>\n",
       "      <th>Bảo vệ thiết bị</th>\n",
       "      <th>Hỗ trợ kỹ thuật</th>\n",
       "      <th>TV trực tuyến</th>\n",
       "      <th>Phim trực tuyến</th>\n",
       "      <th>Loại hợp đồng</th>\n",
       "      <th>Thanh toán điện tử</th>\n",
       "      <th>Phương thức thanh toán</th>\n",
       "      <th>Phí hàng tháng</th>\n",
       "      <th>Tổng phí</th>\n",
       "      <th>Tình trạng khách hàng</th>\n",
       "    </tr>\n",
       "  </thead>\n",
       "  <tbody>\n",
       "    <tr>\n",
       "      <th>0</th>\n",
       "      <td>Nữ</td>\n",
       "      <td>Trẻ</td>\n",
       "      <td>Là đối tác</td>\n",
       "      <td>Không có phụ thuộc</td>\n",
       "      <td>1</td>\n",
       "      <td>Không sử dụng dịch vụ</td>\n",
       "      <td>Không sử dụng dịch vụ điện thoại</td>\n",
       "      <td>DSL</td>\n",
       "      <td>Không sử dụng dịch vụ</td>\n",
       "      <td>Không sử dụng dịch vụ</td>\n",
       "      <td>Không sử dụng dịch vụ</td>\n",
       "      <td>Không sử dụng dịch vụ</td>\n",
       "      <td>Không sử dụng dịch vụ</td>\n",
       "      <td>Không sử dụng dịch vụ</td>\n",
       "      <td>Từng tháng</td>\n",
       "      <td>Sử dụng hóa đơn điện tử</td>\n",
       "      <td>Hóa đơn điện tử</td>\n",
       "      <td>29.85</td>\n",
       "      <td>29.85</td>\n",
       "      <td>Ở lại</td>\n",
       "    </tr>\n",
       "    <tr>\n",
       "      <th>1</th>\n",
       "      <td>Nam</td>\n",
       "      <td>Trẻ</td>\n",
       "      <td>Không là đối tác</td>\n",
       "      <td>Không có phụ thuộc</td>\n",
       "      <td>34</td>\n",
       "      <td>Sử dụng dịch vụ</td>\n",
       "      <td>Không sử dụng dịch vụ</td>\n",
       "      <td>DSL</td>\n",
       "      <td>Không sử dụng dịch vụ</td>\n",
       "      <td>Không sử dụng dịch vụ</td>\n",
       "      <td>Không sử dụng dịch vụ</td>\n",
       "      <td>Không sử dụng dịch vụ</td>\n",
       "      <td>Không sử dụng dịch vụ</td>\n",
       "      <td>Không sử dụng dịch vụ</td>\n",
       "      <td>Từng năm</td>\n",
       "      <td>Không sử dụng hóa đơn điện tử</td>\n",
       "      <td>Gửi qua bưu điện</td>\n",
       "      <td>56.95</td>\n",
       "      <td>1889.50</td>\n",
       "      <td>Ở lại</td>\n",
       "    </tr>\n",
       "    <tr>\n",
       "      <th>2</th>\n",
       "      <td>Nam</td>\n",
       "      <td>Trẻ</td>\n",
       "      <td>Không là đối tác</td>\n",
       "      <td>Không có phụ thuộc</td>\n",
       "      <td>2</td>\n",
       "      <td>Sử dụng dịch vụ</td>\n",
       "      <td>Không sử dụng dịch vụ</td>\n",
       "      <td>DSL</td>\n",
       "      <td>Không sử dụng dịch vụ</td>\n",
       "      <td>Không sử dụng dịch vụ</td>\n",
       "      <td>Không sử dụng dịch vụ</td>\n",
       "      <td>Không sử dụng dịch vụ</td>\n",
       "      <td>Không sử dụng dịch vụ</td>\n",
       "      <td>Không sử dụng dịch vụ</td>\n",
       "      <td>Từng tháng</td>\n",
       "      <td>Sử dụng hóa đơn điện tử</td>\n",
       "      <td>Gửi qua bưu điện</td>\n",
       "      <td>53.85</td>\n",
       "      <td>108.15</td>\n",
       "      <td>Đã rời bỏ</td>\n",
       "    </tr>\n",
       "    <tr>\n",
       "      <th>3</th>\n",
       "      <td>Nam</td>\n",
       "      <td>Trẻ</td>\n",
       "      <td>Không là đối tác</td>\n",
       "      <td>Không có phụ thuộc</td>\n",
       "      <td>45</td>\n",
       "      <td>Không sử dụng dịch vụ</td>\n",
       "      <td>Không sử dụng dịch vụ điện thoại</td>\n",
       "      <td>DSL</td>\n",
       "      <td>Không sử dụng dịch vụ</td>\n",
       "      <td>Không sử dụng dịch vụ</td>\n",
       "      <td>Không sử dụng dịch vụ</td>\n",
       "      <td>Không sử dụng dịch vụ</td>\n",
       "      <td>Không sử dụng dịch vụ</td>\n",
       "      <td>Không sử dụng dịch vụ</td>\n",
       "      <td>Từng năm</td>\n",
       "      <td>Không sử dụng hóa đơn điện tử</td>\n",
       "      <td>Tự động qua giao dịch ngân hàng</td>\n",
       "      <td>42.30</td>\n",
       "      <td>1840.75</td>\n",
       "      <td>Ở lại</td>\n",
       "    </tr>\n",
       "    <tr>\n",
       "      <th>4</th>\n",
       "      <td>Nữ</td>\n",
       "      <td>Trẻ</td>\n",
       "      <td>Không là đối tác</td>\n",
       "      <td>Không có phụ thuộc</td>\n",
       "      <td>2</td>\n",
       "      <td>Sử dụng dịch vụ</td>\n",
       "      <td>Không sử dụng dịch vụ</td>\n",
       "      <td>Fiber optic</td>\n",
       "      <td>Không sử dụng dịch vụ</td>\n",
       "      <td>Không sử dụng dịch vụ</td>\n",
       "      <td>Không sử dụng dịch vụ</td>\n",
       "      <td>Không sử dụng dịch vụ</td>\n",
       "      <td>Không sử dụng dịch vụ</td>\n",
       "      <td>Không sử dụng dịch vụ</td>\n",
       "      <td>Từng tháng</td>\n",
       "      <td>Sử dụng hóa đơn điện tử</td>\n",
       "      <td>Hóa đơn điện tử</td>\n",
       "      <td>70.70</td>\n",
       "      <td>151.65</td>\n",
       "      <td>Đã rời bỏ</td>\n",
       "    </tr>\n",
       "    <tr>\n",
       "      <th>...</th>\n",
       "      <td>...</td>\n",
       "      <td>...</td>\n",
       "      <td>...</td>\n",
       "      <td>...</td>\n",
       "      <td>...</td>\n",
       "      <td>...</td>\n",
       "      <td>...</td>\n",
       "      <td>...</td>\n",
       "      <td>...</td>\n",
       "      <td>...</td>\n",
       "      <td>...</td>\n",
       "      <td>...</td>\n",
       "      <td>...</td>\n",
       "      <td>...</td>\n",
       "      <td>...</td>\n",
       "      <td>...</td>\n",
       "      <td>...</td>\n",
       "      <td>...</td>\n",
       "      <td>...</td>\n",
       "      <td>...</td>\n",
       "    </tr>\n",
       "    <tr>\n",
       "      <th>7038</th>\n",
       "      <td>Nam</td>\n",
       "      <td>Trẻ</td>\n",
       "      <td>Là đối tác</td>\n",
       "      <td>Có phụ thuộc</td>\n",
       "      <td>24</td>\n",
       "      <td>Sử dụng dịch vụ</td>\n",
       "      <td>Sử dụng dịch vụ</td>\n",
       "      <td>DSL</td>\n",
       "      <td>Sử dụng dịch vụ</td>\n",
       "      <td>Sử dụng dịch vụ</td>\n",
       "      <td>Sử dụng dịch vụ</td>\n",
       "      <td>Sử dụng dịch vụ</td>\n",
       "      <td>Sử dụng dịch vụ</td>\n",
       "      <td>Sử dụng dịch vụ</td>\n",
       "      <td>Từng năm</td>\n",
       "      <td>Sử dụng hóa đơn điện tử</td>\n",
       "      <td>Gửi qua bưu điện</td>\n",
       "      <td>84.80</td>\n",
       "      <td>1990.50</td>\n",
       "      <td>Ở lại</td>\n",
       "    </tr>\n",
       "    <tr>\n",
       "      <th>7039</th>\n",
       "      <td>Nữ</td>\n",
       "      <td>Trẻ</td>\n",
       "      <td>Là đối tác</td>\n",
       "      <td>Có phụ thuộc</td>\n",
       "      <td>72</td>\n",
       "      <td>Sử dụng dịch vụ</td>\n",
       "      <td>Sử dụng dịch vụ</td>\n",
       "      <td>Fiber optic</td>\n",
       "      <td>Sử dụng dịch vụ</td>\n",
       "      <td>Sử dụng dịch vụ</td>\n",
       "      <td>Sử dụng dịch vụ</td>\n",
       "      <td>Sử dụng dịch vụ</td>\n",
       "      <td>Sử dụng dịch vụ</td>\n",
       "      <td>Sử dụng dịch vụ</td>\n",
       "      <td>Từng năm</td>\n",
       "      <td>Sử dụng hóa đơn điện tử</td>\n",
       "      <td>Tự động qua thẻ tin dụng</td>\n",
       "      <td>103.20</td>\n",
       "      <td>7362.90</td>\n",
       "      <td>Ở lại</td>\n",
       "    </tr>\n",
       "    <tr>\n",
       "      <th>7040</th>\n",
       "      <td>Nữ</td>\n",
       "      <td>Trẻ</td>\n",
       "      <td>Là đối tác</td>\n",
       "      <td>Có phụ thuộc</td>\n",
       "      <td>11</td>\n",
       "      <td>Không sử dụng dịch vụ</td>\n",
       "      <td>Không sử dụng dịch vụ điện thoại</td>\n",
       "      <td>DSL</td>\n",
       "      <td>Không sử dụng dịch vụ</td>\n",
       "      <td>Không sử dụng dịch vụ</td>\n",
       "      <td>Không sử dụng dịch vụ</td>\n",
       "      <td>Không sử dụng dịch vụ</td>\n",
       "      <td>Không sử dụng dịch vụ</td>\n",
       "      <td>Không sử dụng dịch vụ</td>\n",
       "      <td>Từng tháng</td>\n",
       "      <td>Sử dụng hóa đơn điện tử</td>\n",
       "      <td>Hóa đơn điện tử</td>\n",
       "      <td>29.60</td>\n",
       "      <td>346.45</td>\n",
       "      <td>Ở lại</td>\n",
       "    </tr>\n",
       "    <tr>\n",
       "      <th>7041</th>\n",
       "      <td>Nam</td>\n",
       "      <td>Già</td>\n",
       "      <td>Là đối tác</td>\n",
       "      <td>Không có phụ thuộc</td>\n",
       "      <td>4</td>\n",
       "      <td>Sử dụng dịch vụ</td>\n",
       "      <td>Sử dụng dịch vụ</td>\n",
       "      <td>Fiber optic</td>\n",
       "      <td>Không sử dụng dịch vụ</td>\n",
       "      <td>Không sử dụng dịch vụ</td>\n",
       "      <td>Không sử dụng dịch vụ</td>\n",
       "      <td>Không sử dụng dịch vụ</td>\n",
       "      <td>Không sử dụng dịch vụ</td>\n",
       "      <td>Không sử dụng dịch vụ</td>\n",
       "      <td>Từng tháng</td>\n",
       "      <td>Sử dụng hóa đơn điện tử</td>\n",
       "      <td>Gửi qua bưu điện</td>\n",
       "      <td>74.40</td>\n",
       "      <td>306.60</td>\n",
       "      <td>Đã rời bỏ</td>\n",
       "    </tr>\n",
       "    <tr>\n",
       "      <th>7042</th>\n",
       "      <td>Nam</td>\n",
       "      <td>Trẻ</td>\n",
       "      <td>Không là đối tác</td>\n",
       "      <td>Không có phụ thuộc</td>\n",
       "      <td>66</td>\n",
       "      <td>Sử dụng dịch vụ</td>\n",
       "      <td>Không sử dụng dịch vụ</td>\n",
       "      <td>Fiber optic</td>\n",
       "      <td>Sử dụng dịch vụ</td>\n",
       "      <td>Sử dụng dịch vụ</td>\n",
       "      <td>Sử dụng dịch vụ</td>\n",
       "      <td>Sử dụng dịch vụ</td>\n",
       "      <td>Sử dụng dịch vụ</td>\n",
       "      <td>Sử dụng dịch vụ</td>\n",
       "      <td>Hai năm</td>\n",
       "      <td>Sử dụng hóa đơn điện tử</td>\n",
       "      <td>Tự động qua giao dịch ngân hàng</td>\n",
       "      <td>105.65</td>\n",
       "      <td>6844.50</td>\n",
       "      <td>Ở lại</td>\n",
       "    </tr>\n",
       "  </tbody>\n",
       "</table>\n",
       "<p>7032 rows × 20 columns</p>\n",
       "</div>"
      ],
      "text/plain": [
       "     Giới tính Người già           Đối tác           Phụ thuộc  \\\n",
       "0           Nữ       Trẻ        Là đối tác  Không có phụ thuộc   \n",
       "1          Nam       Trẻ  Không là đối tác  Không có phụ thuộc   \n",
       "2          Nam       Trẻ  Không là đối tác  Không có phụ thuộc   \n",
       "3          Nam       Trẻ  Không là đối tác  Không có phụ thuộc   \n",
       "4           Nữ       Trẻ  Không là đối tác  Không có phụ thuộc   \n",
       "...        ...       ...               ...                 ...   \n",
       "7038       Nam       Trẻ        Là đối tác        Có phụ thuộc   \n",
       "7039        Nữ       Trẻ        Là đối tác        Có phụ thuộc   \n",
       "7040        Nữ       Trẻ        Là đối tác        Có phụ thuộc   \n",
       "7041       Nam       Già        Là đối tác  Không có phụ thuộc   \n",
       "7042       Nam       Trẻ  Không là đối tác  Không có phụ thuộc   \n",
       "\n",
       "      Số tháng gắn bó     Dịch vụ điện thoại  \\\n",
       "0                   1  Không sử dụng dịch vụ   \n",
       "1                  34        Sử dụng dịch vụ   \n",
       "2                   2        Sử dụng dịch vụ   \n",
       "3                  45  Không sử dụng dịch vụ   \n",
       "4                   2        Sử dụng dịch vụ   \n",
       "...               ...                    ...   \n",
       "7038               24        Sử dụng dịch vụ   \n",
       "7039               72        Sử dụng dịch vụ   \n",
       "7040               11  Không sử dụng dịch vụ   \n",
       "7041                4        Sử dụng dịch vụ   \n",
       "7042               66        Sử dụng dịch vụ   \n",
       "\n",
       "                              Đa luồng Dịch vụ internet  \\\n",
       "0     Không sử dụng dịch vụ điện thoại              DSL   \n",
       "1                Không sử dụng dịch vụ              DSL   \n",
       "2                Không sử dụng dịch vụ              DSL   \n",
       "3     Không sử dụng dịch vụ điện thoại              DSL   \n",
       "4                Không sử dụng dịch vụ      Fiber optic   \n",
       "...                                ...              ...   \n",
       "7038                   Sử dụng dịch vụ              DSL   \n",
       "7039                   Sử dụng dịch vụ      Fiber optic   \n",
       "7040  Không sử dụng dịch vụ điện thoại              DSL   \n",
       "7041                   Sử dụng dịch vụ      Fiber optic   \n",
       "7042             Không sử dụng dịch vụ      Fiber optic   \n",
       "\n",
       "         Bảo mật trực tuyến     Sao lưu trực tuyến        Bảo vệ thiết bị  \\\n",
       "0     Không sử dụng dịch vụ  Không sử dụng dịch vụ  Không sử dụng dịch vụ   \n",
       "1     Không sử dụng dịch vụ  Không sử dụng dịch vụ  Không sử dụng dịch vụ   \n",
       "2     Không sử dụng dịch vụ  Không sử dụng dịch vụ  Không sử dụng dịch vụ   \n",
       "3     Không sử dụng dịch vụ  Không sử dụng dịch vụ  Không sử dụng dịch vụ   \n",
       "4     Không sử dụng dịch vụ  Không sử dụng dịch vụ  Không sử dụng dịch vụ   \n",
       "...                     ...                    ...                    ...   \n",
       "7038        Sử dụng dịch vụ        Sử dụng dịch vụ        Sử dụng dịch vụ   \n",
       "7039        Sử dụng dịch vụ        Sử dụng dịch vụ        Sử dụng dịch vụ   \n",
       "7040  Không sử dụng dịch vụ  Không sử dụng dịch vụ  Không sử dụng dịch vụ   \n",
       "7041  Không sử dụng dịch vụ  Không sử dụng dịch vụ  Không sử dụng dịch vụ   \n",
       "7042        Sử dụng dịch vụ        Sử dụng dịch vụ        Sử dụng dịch vụ   \n",
       "\n",
       "            Hỗ trợ kỹ thuật          TV trực tuyến        Phim trực tuyến  \\\n",
       "0     Không sử dụng dịch vụ  Không sử dụng dịch vụ  Không sử dụng dịch vụ   \n",
       "1     Không sử dụng dịch vụ  Không sử dụng dịch vụ  Không sử dụng dịch vụ   \n",
       "2     Không sử dụng dịch vụ  Không sử dụng dịch vụ  Không sử dụng dịch vụ   \n",
       "3     Không sử dụng dịch vụ  Không sử dụng dịch vụ  Không sử dụng dịch vụ   \n",
       "4     Không sử dụng dịch vụ  Không sử dụng dịch vụ  Không sử dụng dịch vụ   \n",
       "...                     ...                    ...                    ...   \n",
       "7038        Sử dụng dịch vụ        Sử dụng dịch vụ        Sử dụng dịch vụ   \n",
       "7039        Sử dụng dịch vụ        Sử dụng dịch vụ        Sử dụng dịch vụ   \n",
       "7040  Không sử dụng dịch vụ  Không sử dụng dịch vụ  Không sử dụng dịch vụ   \n",
       "7041  Không sử dụng dịch vụ  Không sử dụng dịch vụ  Không sử dụng dịch vụ   \n",
       "7042        Sử dụng dịch vụ        Sử dụng dịch vụ        Sử dụng dịch vụ   \n",
       "\n",
       "     Loại hợp đồng             Thanh toán điện tử  \\\n",
       "0       Từng tháng        Sử dụng hóa đơn điện tử   \n",
       "1         Từng năm  Không sử dụng hóa đơn điện tử   \n",
       "2       Từng tháng        Sử dụng hóa đơn điện tử   \n",
       "3         Từng năm  Không sử dụng hóa đơn điện tử   \n",
       "4       Từng tháng        Sử dụng hóa đơn điện tử   \n",
       "...            ...                            ...   \n",
       "7038      Từng năm        Sử dụng hóa đơn điện tử   \n",
       "7039      Từng năm        Sử dụng hóa đơn điện tử   \n",
       "7040    Từng tháng        Sử dụng hóa đơn điện tử   \n",
       "7041    Từng tháng        Sử dụng hóa đơn điện tử   \n",
       "7042       Hai năm        Sử dụng hóa đơn điện tử   \n",
       "\n",
       "               Phương thức thanh toán  Phí hàng tháng  Tổng phí  \\\n",
       "0                     Hóa đơn điện tử           29.85     29.85   \n",
       "1                    Gửi qua bưu điện           56.95   1889.50   \n",
       "2                    Gửi qua bưu điện           53.85    108.15   \n",
       "3     Tự động qua giao dịch ngân hàng           42.30   1840.75   \n",
       "4                     Hóa đơn điện tử           70.70    151.65   \n",
       "...                               ...             ...       ...   \n",
       "7038                 Gửi qua bưu điện           84.80   1990.50   \n",
       "7039         Tự động qua thẻ tin dụng          103.20   7362.90   \n",
       "7040                  Hóa đơn điện tử           29.60    346.45   \n",
       "7041                 Gửi qua bưu điện           74.40    306.60   \n",
       "7042  Tự động qua giao dịch ngân hàng          105.65   6844.50   \n",
       "\n",
       "     Tình trạng khách hàng  \n",
       "0                    Ở lại  \n",
       "1                    Ở lại  \n",
       "2                Đã rời bỏ  \n",
       "3                    Ở lại  \n",
       "4                Đã rời bỏ  \n",
       "...                    ...  \n",
       "7038                 Ở lại  \n",
       "7039                 Ở lại  \n",
       "7040                 Ở lại  \n",
       "7041             Đã rời bỏ  \n",
       "7042                 Ở lại  \n",
       "\n",
       "[7032 rows x 20 columns]"
      ]
     },
     "execution_count": 1001,
     "metadata": {},
     "output_type": "execute_result"
    }
   ],
   "source": [
    "data"
   ]
  },
  {
   "cell_type": "code",
   "execution_count": null,
   "id": "2208e4c1-c7d9-4b14-b156-98a4e34e1acf",
   "metadata": {},
   "outputs": [],
   "source": []
  },
  {
   "cell_type": "markdown",
   "id": "464e0e3d-7245-476a-b6fc-8d21a4add932",
   "metadata": {},
   "source": [
    "## TRỰC QUAN HÓA CÁC DỮ LIỆU CÓ TRONG TỪNG CỘT"
   ]
  },
  {
   "cell_type": "markdown",
   "id": "2884dc1e-d5d9-4312-8864-59ecdc0300a0",
   "metadata": {},
   "source": [
    "# Dữ liệu trong cột Giới tính"
   ]
  },
  {
   "cell_type": "code",
   "execution_count": 1004,
   "id": "83b16118-7b14-4f28-87f8-e05c4306fe55",
   "metadata": {},
   "outputs": [
    {
     "data": {
      "text/plain": [
       "Giới tính\n",
       "Nam    3549\n",
       "Nữ     3483\n",
       "Name: count, dtype: int64"
      ]
     },
     "execution_count": 1004,
     "metadata": {},
     "output_type": "execute_result"
    }
   ],
   "source": [
    "data['Giới tính'].value_counts()"
   ]
  },
  {
   "cell_type": "code",
   "execution_count": 1005,
   "id": "17184ddb-e824-4665-9c73-1b64f8e9b7b8",
   "metadata": {},
   "outputs": [],
   "source": [
    "data_Gender = data['Giới tính'].value_counts()"
   ]
  },
  {
   "cell_type": "code",
   "execution_count": 1006,
   "id": "17aeaf21-1ab1-4786-b444-795af26c1d5f",
   "metadata": {},
   "outputs": [
    {
     "data": {
      "image/png": "[encoded data removed]",
      "text/plain": [
       "<Figure size 1500x400 with 2 Axes>"
      ]
     },
     "metadata": {},
     "output_type": "display_data"
    }
   ],
   "source": [
    "plt.figure(figsize=(15,4))\n",
    "plt.subplot(1,2,1)\n",
    "plt.pie(\n",
    "    data_Gender.values,\n",
    "    labels = data_Gender.index,\n",
    "    autopct='%.2f%%',\n",
    "    startangle=90,\n",
    "    labeldistance=1.05\n",
    ")\n",
    "plt.legend(loc=4)\n",
    "plt.title(\"Biểu đồ tỉ lệ khách Nam, Nữ trong file dữ liệu\")\n",
    "plt.subplot(1,2,2)\n",
    "plt.bar(\n",
    "    data_Gender.index,\n",
    "    data_Gender.values,\n",
    ")\n",
    "plt.grid(ls='--')\n",
    "plt.ylabel('Số người')\n",
    "plt.xlabel('Giới tính')\n",
    "plt.title(\"Biểu đồ số lượng khách Nam, Nữ trong file dữ liệu\")\n",
    "plt.show()"
   ]
  },
  {
   "cell_type": "markdown",
   "id": "c7a00fca-67d9-485c-8cc7-3e92dbb518c7",
   "metadata": {},
   "source": [
    "# Trực quan dữ liệu trong cột Senior Citizen(Khách hàng có là người cao tuổi hay không)"
   ]
  },
  {
   "cell_type": "code",
   "execution_count": 1008,
   "id": "10056999-020a-4711-b9df-fb4a07504265",
   "metadata": {},
   "outputs": [
    {
     "data": {
      "text/plain": [
       "Người già\n",
       "Trẻ    5890\n",
       "Già    1142\n",
       "Name: count, dtype: int64"
      ]
     },
     "execution_count": 1008,
     "metadata": {},
     "output_type": "execute_result"
    }
   ],
   "source": [
    "data['Người già'].value_counts()"
   ]
  },
  {
   "cell_type": "code",
   "execution_count": 1009,
   "id": "41ee0898-b095-4a77-9a98-a1aca991dd0a",
   "metadata": {},
   "outputs": [],
   "source": [
    "data_SeniorCitizen = data['Người già'].value_counts()"
   ]
  },
  {
   "cell_type": "code",
   "execution_count": 1010,
   "id": "15622aeb-2a10-4c4b-a0a9-f821d5f7bb85",
   "metadata": {},
   "outputs": [
    {
     "data": {
      "image/png": "[encoded data removed]",
      "text/plain": [
       "<Figure size 1500x400 with 2 Axes>"
      ]
     },
     "metadata": {},
     "output_type": "display_data"
    }
   ],
   "source": [
    "plt.figure(figsize=(15,4))\n",
    "plt.subplot(1,2,1)\n",
    "plt.pie(\n",
    "    data_SeniorCitizen.values,\n",
    "    labels = data_SeniorCitizen.index,\n",
    "    autopct='%.2f%%',\n",
    "    startangle=90,\n",
    "    labeldistance=1.05\n",
    ")\n",
    "plt.legend(loc=4)\n",
    "plt.subplot(1,2,2)\n",
    "plt.bar(\n",
    "    data_SeniorCitizen.index,\n",
    "    data_SeniorCitizen.values,\n",
    ")\n",
    "plt.grid(ls='--')\n",
    "plt.ylabel('Số người')\n",
    "plt.xlabel('Độ tuổi')\n",
    "plt.show()"
   ]
  },
  {
   "cell_type": "markdown",
   "id": "aad413f4-9f2f-4e3f-9aac-6af499c2bb61",
   "metadata": {},
   "source": [
    "# Trực quan dữ liệu trong cột Partner(Đối tác)"
   ]
  },
  {
   "cell_type": "code",
   "execution_count": 1012,
   "id": "7df6b974-e168-4819-ba6b-506e6e4dda12",
   "metadata": {},
   "outputs": [
    {
     "data": {
      "text/plain": [
       "Đối tác\n",
       "Không là đối tác    3639\n",
       "Là đối tác          3393\n",
       "Name: count, dtype: int64"
      ]
     },
     "execution_count": 1012,
     "metadata": {},
     "output_type": "execute_result"
    }
   ],
   "source": [
    "data['Đối tác'].value_counts()"
   ]
  },
  {
   "cell_type": "code",
   "execution_count": null,
   "id": "d5387d53-2867-4932-b37e-81c3ce09c630",
   "metadata": {},
   "outputs": [],
   "source": []
  },
  {
   "cell_type": "code",
   "execution_count": 1013,
   "id": "44c3f0db-7fd6-4dec-8dfe-f06b5ece03cb",
   "metadata": {},
   "outputs": [],
   "source": [
    "data_Partner = data['Đối tác'].value_counts()"
   ]
  },
  {
   "cell_type": "code",
   "execution_count": 1014,
   "id": "df184d0e-09d8-4c57-8449-a4a1e4869793",
   "metadata": {},
   "outputs": [
    {
     "data": {
      "image/png": "[encoded data removed]",
      "text/plain": [
       "<Figure size 1500x500 with 2 Axes>"
      ]
     },
     "metadata": {},
     "output_type": "display_data"
    }
   ],
   "source": [
    "plt.figure(figsize=(15,5))\n",
    "plt.subplot(1,2,1)\n",
    "plt.pie(\n",
    "    data_SeniorCitizen.values,\n",
    "    labels = data_Partner.index,\n",
    "    autopct='%.2f%%',\n",
    "    startangle=90,\n",
    "    labeldistance=1.05\n",
    ")\n",
    "\n",
    "plt.legend(loc=4)\n",
    "plt.subplot(1,2,2)\n",
    "plt.bar(\n",
    "    data_Partner.index,\n",
    "    data_Partner.values,\n",
    ")\n",
    "plt.grid(ls='--')\n",
    "plt.ylabel('Số người')\n",
    "plt.xlabel('Tình trạng')\n",
    "plt.show()"
   ]
  },
  {
   "cell_type": "markdown",
   "id": "efd6ca04-1e8b-4497-9b36-6e2276cc5a3f",
   "metadata": {},
   "source": [
    "# Trực quan dữ liệu trong cột Tenure( Thời gian khách hàng đã sử dụng dịch vụ của công ty)"
   ]
  },
  {
   "cell_type": "code",
   "execution_count": 1016,
   "id": "5eac691a-ad82-4025-a9a5-4674825fc0cc",
   "metadata": {},
   "outputs": [],
   "source": [
    "data_Tenure = data['Số tháng gắn bó'].value_counts()"
   ]
  },
  {
   "cell_type": "code",
   "execution_count": 1017,
   "id": "ee24ad69-18a2-4617-9560-788aeef4a083",
   "metadata": {},
   "outputs": [
    {
     "data": {
      "text/plain": [
       "Số tháng gắn bó\n",
       "1     613\n",
       "2     238\n",
       "3     200\n",
       "4     176\n",
       "5     133\n",
       "     ... \n",
       "68    100\n",
       "69     95\n",
       "70    119\n",
       "71    170\n",
       "72    362\n",
       "Name: count, Length: 72, dtype: int64"
      ]
     },
     "execution_count": 1017,
     "metadata": {},
     "output_type": "execute_result"
    }
   ],
   "source": [
    "data_Tenure.sort_index()"
   ]
  },
  {
   "cell_type": "code",
   "execution_count": 1018,
   "id": "e6a780a4-8460-43ab-866d-77a396732c30",
   "metadata": {},
   "outputs": [
    {
     "data": {
      "image/png": "[encoded data removed]",
      "text/plain": [
       "<Figure size 1000x600 with 1 Axes>"
      ]
     },
     "metadata": {},
     "output_type": "display_data"
    }
   ],
   "source": [
    "plt.figure(figsize=(10,6))\n",
    "plt.bar(\n",
    "    data_Tenure.index,\n",
    "    data_Tenure.values,\n",
    ")\n",
    "plt.ylabel('Số người')\n",
    "plt.xlabel('Số tháng')\n",
    "plt.show()"
   ]
  },
  {
   "cell_type": "markdown",
   "id": "31fc1af2-2d29-4803-8e48-601c5b40820d",
   "metadata": {},
   "source": [
    "# Trực quan dữ liệu cột PhoneService(Khách hàng có sử dụng dịch vụ điện thoại hay không Yes or No)"
   ]
  },
  {
   "cell_type": "code",
   "execution_count": 1020,
   "id": "725bb164-8834-4f48-aa92-90c22e7e19c3",
   "metadata": {},
   "outputs": [],
   "source": [
    "data_PhoneService = data['Dịch vụ điện thoại'].value_counts()"
   ]
  },
  {
   "cell_type": "code",
   "execution_count": 1021,
   "id": "4f98f13a-1b72-4764-a93b-2ce599082e8f",
   "metadata": {},
   "outputs": [
    {
     "data": {
      "text/plain": [
       "Dịch vụ điện thoại\n",
       "Sử dụng dịch vụ          6352\n",
       "Không sử dụng dịch vụ     680\n",
       "Name: count, dtype: int64"
      ]
     },
     "execution_count": 1021,
     "metadata": {},
     "output_type": "execute_result"
    }
   ],
   "source": [
    "data_PhoneService"
   ]
  },
  {
   "cell_type": "code",
   "execution_count": 1022,
   "id": "beaea41c-2167-4854-bc26-367b2095d4a2",
   "metadata": {},
   "outputs": [
    {
     "data": {
      "image/png": "[encoded data removed]",
      "text/plain": [
       "<Figure size 1500x500 with 2 Axes>"
      ]
     },
     "metadata": {},
     "output_type": "display_data"
    }
   ],
   "source": [
    "plt.figure(figsize=(15,5))\n",
    "plt.subplot(1,2,1)\n",
    "plt.pie(\n",
    "    data_PhoneService.values,\n",
    "    labels = data_PhoneService.index,\n",
    "    autopct='%.3f%%',\n",
    "    startangle=90,\n",
    "    labeldistance=1.09\n",
    ")\n",
    "\n",
    "plt.subplot(1,2,2)\n",
    "plt.bar(\n",
    "    data_PhoneService.index,\n",
    "    data_PhoneService.values,\n",
    ")\n",
    "plt.grid(ls='--')\n",
    "plt.ylabel('Số người')\n",
    "plt.xlabel('Sử dụng dịch vụ')\n",
    "plt.show()"
   ]
  },
  {
   "cell_type": "markdown",
   "id": "ce33b417-37ba-493c-a36b-e398e24e5177",
   "metadata": {},
   "source": [
    "# Trực quan dữ liệu trong cột MultipleLines( Khách hàng có sử dụng nhiều đường dây hay không)"
   ]
  },
  {
   "cell_type": "code",
   "execution_count": 1024,
   "id": "c5b7867b-5f48-46f6-8d57-d9d5ed967bda",
   "metadata": {},
   "outputs": [],
   "source": [
    "data_MultipleLines = data['Đa luồng'].value_counts()"
   ]
  },
  {
   "cell_type": "code",
   "execution_count": 1025,
   "id": "13a1edc7-cdb3-4685-b021-b62ac055a478",
   "metadata": {},
   "outputs": [
    {
     "data": {
      "text/plain": [
       "Đa luồng\n",
       "Không sử dụng dịch vụ               3385\n",
       "Sử dụng dịch vụ                     2967\n",
       "Không sử dụng dịch vụ điện thoại     680\n",
       "Name: count, dtype: int64"
      ]
     },
     "execution_count": 1025,
     "metadata": {},
     "output_type": "execute_result"
    }
   ],
   "source": [
    "data_MultipleLines"
   ]
  },
  {
   "cell_type": "code",
   "execution_count": 1026,
   "id": "615ce726-16e6-432e-a755-1dd3128fd52c",
   "metadata": {},
   "outputs": [
    {
     "data": {
      "image/png": "[encoded data removed]",
      "text/plain": [
       "<Figure size 1500x500 with 2 Axes>"
      ]
     },
     "metadata": {},
     "output_type": "display_data"
    }
   ],
   "source": [
    "plt.figure(figsize=(15,5))\n",
    "plt.subplot(1,2,1)\n",
    "plt.pie(\n",
    "    data_MultipleLines.values,\n",
    "    labels = data_MultipleLines.index,\n",
    "    autopct='%.3f%%',\n",
    "    startangle=90,\n",
    "    labeldistance=1.09\n",
    ")\n",
    "\n",
    "plt.subplot(1,2,2)\n",
    "plt.bar(\n",
    "    data_MultipleLines.index,\n",
    "    data_MultipleLines.values,\n",
    ")\n",
    "plt.grid(ls='--')\n",
    "plt.ylabel('Số người')\n",
    "plt.xlabel('Sử dụng dịch vụ')\n",
    "plt.show()"
   ]
  },
  {
   "cell_type": "markdown",
   "id": "d94f72be-c710-47d4-8b19-23a7c218fddb",
   "metadata": {},
   "source": [
    "# Trực quan các cột liên quan đến dịch vụ Online(InternetService, OnlineSecurity, OnlineBackup, DeviceProtection, TechSuppor, StreamingTV)'"
   ]
  },
  {
   "cell_type": "code",
   "execution_count": 1028,
   "id": "3bfd719e-44dc-484f-b61c-0be767e04322",
   "metadata": {},
   "outputs": [
    {
     "data": {
      "text/plain": [
       "Index(['OnlineSecurity', 'OnlineBackup', 'DeviceProtection', 'TechSupport',\n",
       "       'StreamingTV', 'StreamingMovies', 'Contract'],\n",
       "      dtype='object')"
      ]
     },
     "execution_count": 1028,
     "metadata": {},
     "output_type": "execute_result"
    }
   ],
   "source": [
    "labels[7:14]"
   ]
  },
  {
   "cell_type": "code",
   "execution_count": 1029,
   "id": "391adaa8-3c51-47de-aaf5-440f0d1aee97",
   "metadata": {},
   "outputs": [
    {
     "ename": "KeyError",
     "evalue": "'OnlineSecurity'",
     "output_type": "error",
     "traceback": [
      "\u001b[1;31m---------------------------------------------------------------------------\u001b[0m",
      "\u001b[1;31mKeyError\u001b[0m                                  Traceback (most recent call last)",
      "File \u001b[1;32m~\\anaconda3\\Lib\\site-packages\\pandas\\core\\indexes\\base.py:3805\u001b[0m, in \u001b[0;36mIndex.get_loc\u001b[1;34m(self, key)\u001b[0m\n\u001b[0;32m   3804\u001b[0m \u001b[38;5;28;01mtry\u001b[39;00m:\n\u001b[1;32m-> 3805\u001b[0m     \u001b[38;5;28;01mreturn\u001b[39;00m \u001b[38;5;28mself\u001b[39m\u001b[38;5;241m.\u001b[39m_engine\u001b[38;5;241m.\u001b[39mget_loc(casted_key)\n\u001b[0;32m   3806\u001b[0m \u001b[38;5;28;01mexcept\u001b[39;00m \u001b[38;5;167;01mKeyError\u001b[39;00m \u001b[38;5;28;01mas\u001b[39;00m err:\n",
      "File \u001b[1;32mindex.pyx:167\u001b[0m, in \u001b[0;36mpandas._libs.index.IndexEngine.get_loc\u001b[1;34m()\u001b[0m\n",
      "File \u001b[1;32mindex.pyx:196\u001b[0m, in \u001b[0;36mpandas._libs.index.IndexEngine.get_loc\u001b[1;34m()\u001b[0m\n",
      "File \u001b[1;32mpandas\\\\_libs\\\\hashtable_class_helper.pxi:7081\u001b[0m, in \u001b[0;36mpandas._libs.hashtable.PyObjectHashTable.get_item\u001b[1;34m()\u001b[0m\n",
      "File \u001b[1;32mpandas\\\\_libs\\\\hashtable_class_helper.pxi:7089\u001b[0m, in \u001b[0;36mpandas._libs.hashtable.PyObjectHashTable.get_item\u001b[1;34m()\u001b[0m\n",
      "\u001b[1;31mKeyError\u001b[0m: 'OnlineSecurity'",
      "\nThe above exception was the direct cause of the following exception:\n",
      "\u001b[1;31mKeyError\u001b[0m                                  Traceback (most recent call last)",
      "Cell \u001b[1;32mIn[1029], line 2\u001b[0m\n\u001b[0;32m      1\u001b[0m \u001b[38;5;28;01mfor\u001b[39;00m i \u001b[38;5;129;01min\u001b[39;00m labels[\u001b[38;5;241m7\u001b[39m:\u001b[38;5;241m14\u001b[39m]:\n\u001b[1;32m----> 2\u001b[0m     temp \u001b[38;5;241m=\u001b[39m data[i]\u001b[38;5;241m.\u001b[39mvalue_counts()\n\u001b[0;32m      3\u001b[0m     \u001b[38;5;28mprint\u001b[39m(i)\n\u001b[0;32m      4\u001b[0m     plt\u001b[38;5;241m.\u001b[39mfigure(figsize\u001b[38;5;241m=\u001b[39m(\u001b[38;5;241m15\u001b[39m,\u001b[38;5;241m5\u001b[39m))\n",
      "File \u001b[1;32m~\\anaconda3\\Lib\\site-packages\\pandas\\core\\frame.py:4102\u001b[0m, in \u001b[0;36mDataFrame.__getitem__\u001b[1;34m(self, key)\u001b[0m\n\u001b[0;32m   4100\u001b[0m \u001b[38;5;28;01mif\u001b[39;00m \u001b[38;5;28mself\u001b[39m\u001b[38;5;241m.\u001b[39mcolumns\u001b[38;5;241m.\u001b[39mnlevels \u001b[38;5;241m>\u001b[39m \u001b[38;5;241m1\u001b[39m:\n\u001b[0;32m   4101\u001b[0m     \u001b[38;5;28;01mreturn\u001b[39;00m \u001b[38;5;28mself\u001b[39m\u001b[38;5;241m.\u001b[39m_getitem_multilevel(key)\n\u001b[1;32m-> 4102\u001b[0m indexer \u001b[38;5;241m=\u001b[39m \u001b[38;5;28mself\u001b[39m\u001b[38;5;241m.\u001b[39mcolumns\u001b[38;5;241m.\u001b[39mget_loc(key)\n\u001b[0;32m   4103\u001b[0m \u001b[38;5;28;01mif\u001b[39;00m is_integer(indexer):\n\u001b[0;32m   4104\u001b[0m     indexer \u001b[38;5;241m=\u001b[39m [indexer]\n",
      "File \u001b[1;32m~\\anaconda3\\Lib\\site-packages\\pandas\\core\\indexes\\base.py:3812\u001b[0m, in \u001b[0;36mIndex.get_loc\u001b[1;34m(self, key)\u001b[0m\n\u001b[0;32m   3807\u001b[0m     \u001b[38;5;28;01mif\u001b[39;00m \u001b[38;5;28misinstance\u001b[39m(casted_key, \u001b[38;5;28mslice\u001b[39m) \u001b[38;5;129;01mor\u001b[39;00m (\n\u001b[0;32m   3808\u001b[0m         \u001b[38;5;28misinstance\u001b[39m(casted_key, abc\u001b[38;5;241m.\u001b[39mIterable)\n\u001b[0;32m   3809\u001b[0m         \u001b[38;5;129;01mand\u001b[39;00m \u001b[38;5;28many\u001b[39m(\u001b[38;5;28misinstance\u001b[39m(x, \u001b[38;5;28mslice\u001b[39m) \u001b[38;5;28;01mfor\u001b[39;00m x \u001b[38;5;129;01min\u001b[39;00m casted_key)\n\u001b[0;32m   3810\u001b[0m     ):\n\u001b[0;32m   3811\u001b[0m         \u001b[38;5;28;01mraise\u001b[39;00m InvalidIndexError(key)\n\u001b[1;32m-> 3812\u001b[0m     \u001b[38;5;28;01mraise\u001b[39;00m \u001b[38;5;167;01mKeyError\u001b[39;00m(key) \u001b[38;5;28;01mfrom\u001b[39;00m \u001b[38;5;21;01merr\u001b[39;00m\n\u001b[0;32m   3813\u001b[0m \u001b[38;5;28;01mexcept\u001b[39;00m \u001b[38;5;167;01mTypeError\u001b[39;00m:\n\u001b[0;32m   3814\u001b[0m     \u001b[38;5;66;03m# If we have a listlike key, _check_indexing_error will raise\u001b[39;00m\n\u001b[0;32m   3815\u001b[0m     \u001b[38;5;66;03m#  InvalidIndexError. Otherwise we fall through and re-raise\u001b[39;00m\n\u001b[0;32m   3816\u001b[0m     \u001b[38;5;66;03m#  the TypeError.\u001b[39;00m\n\u001b[0;32m   3817\u001b[0m     \u001b[38;5;28mself\u001b[39m\u001b[38;5;241m.\u001b[39m_check_indexing_error(key)\n",
      "\u001b[1;31mKeyError\u001b[0m: 'OnlineSecurity'"
     ]
    }
   ],
   "source": [
    "for i in labels[7:14]:\n",
    "    temp = data[i].value_counts()\n",
    "    print(i)\n",
    "    plt.figure(figsize=(15,5))\n",
    "    plt.subplot(1,2,1)\n",
    "    plt.pie(\n",
    "        temp.values,\n",
    "        labels = temp.index,\n",
    "        autopct='%.3f%%',\n",
    "        startangle=90,\n",
    "        labeldistance=1.09\n",
    "    )\n",
    "    plt.title('Biểu đồ thể hiện tỉ lệ người sử dụng dịch vụ')\n",
    "    plt.subplot(1,2,2)\n",
    "    plt.bar(\n",
    "        temp.index,\n",
    "        temp.values,\n",
    "    )\n",
    "    plt.grid(ls='--')\n",
    "    plt.ylabel('Số người')\n",
    "    plt.title('Biểu đồ số lượng người sử dụng dịch vụ')\n",
    "    plt.show()"
   ]
  },
  {
   "cell_type": "markdown",
   "id": "44255dc9-8595-49f2-94a1-223ac56c28a1",
   "metadata": {},
   "source": [
    "# Trực quan dữ liệu trong cột Contract(Thời hạn hợp đồng của khách hàng)"
   ]
  },
  {
   "cell_type": "code",
   "execution_count": null,
   "id": "dda1f6d5-6520-41fa-8798-187477d08a8d",
   "metadata": {},
   "outputs": [],
   "source": [
    "data_Contract = data['Loại hợp đồng'].value_counts()"
   ]
  },
  {
   "cell_type": "code",
   "execution_count": null,
   "id": "09a432e3-132f-4962-82ad-c2333092b5a9",
   "metadata": {},
   "outputs": [],
   "source": [
    "data_Contract"
   ]
  },
  {
   "cell_type": "code",
   "execution_count": null,
   "id": "b6495455-80fb-40fb-b562-9a3656963ca2",
   "metadata": {},
   "outputs": [],
   "source": [
    "plt.figure(figsize=(15,5))\n",
    "plt.subplot(1,2,1)\n",
    "plt.pie(\n",
    "    data_Contract.values,\n",
    "    labels=data_Contract.index,\n",
    "    autopct='%.3f%%',\n",
    "    startangle=90,\n",
    "    labeldistance=1.09\n",
    ")    \n",
    "plt.title('Biểu đồ thể hiện tỉ lệ người sử dụng dịch vụ')\n",
    "plt.subplot(1,2,2)\n",
    "plt.subplot(1,2,2)\n",
    "plt.bar(\n",
    "    data_Contract.index,\n",
    "    data_Contract.values,\n",
    ")\n",
    "plt.grid(ls='--')\n",
    "plt.ylabel('Số người')\n",
    "plt.xlabel('Thời gian hợp đồng')\n",
    "plt.title('Biểu đồ số lượng người sử dụng dịch vụ')\n",
    "plt.show()"
   ]
  },
  {
   "cell_type": "markdown",
   "id": "d520469c-9823-4e65-911f-79a0fce90120",
   "metadata": {},
   "source": [
    "# Trực quan hóa dữ liệu cột PaperlessBilling(sử dụng hóa đơn điện tử)"
   ]
  },
  {
   "cell_type": "code",
   "execution_count": null,
   "id": "cae302ce-dec6-42b3-bca6-21a89f1c71fc",
   "metadata": {},
   "outputs": [],
   "source": [
    "data_PaperlessBilling = data['Thanh toán điện tử'].value_counts();\n",
    "data_PaperlessBilling"
   ]
  },
  {
   "cell_type": "code",
   "execution_count": null,
   "id": "3b619488-ffee-4445-bc83-acbc8911e559",
   "metadata": {},
   "outputs": [],
   "source": [
    "plt.figure(figsize=(15,5))\n",
    "plt.subplot(1,2,1)\n",
    "plt.pie(\n",
    "    data_PaperlessBilling.values,\n",
    "    labels = data_PaperlessBilling.index,\n",
    "    autopct='%.3f%%',\n",
    "    startangle=90,\n",
    "    labeldistance=1.09\n",
    ")    \n",
    "plt.title('Biểu đồ thể hiện tỉ lệ người sử dụng dịch vụ')\n",
    "plt.subplot(1,2,2)\n",
    "plt.bar(\n",
    "    data_PaperlessBilling.index,\n",
    "    data_PaperlessBilling.values,\n",
    ")\n",
    "plt.grid(ls='--')\n",
    "plt.title('Biểu đồ số lượng người sử dụng dịch vụ')\n",
    "plt.ylabel('Số người')\n",
    "plt.show()"
   ]
  },
  {
   "cell_type": "markdown",
   "id": "ef3cc663-e12b-4bcc-98cf-a26abbd42768",
   "metadata": {},
   "source": [
    "# Trực quan hóa dữ liệu cột PaymenMethod(Phương thức thanh toán của khách hàng)"
   ]
  },
  {
   "cell_type": "code",
   "execution_count": null,
   "id": "773c2686-0da0-4846-91d6-8d2f21d27082",
   "metadata": {},
   "outputs": [],
   "source": [
    "data_PaymenMethod = data['Phương thức thanh toán'].value_counts()"
   ]
  },
  {
   "cell_type": "code",
   "execution_count": null,
   "id": "b2d35b5b-b177-4a68-a466-6a322f470766",
   "metadata": {},
   "outputs": [],
   "source": [
    "data_PaymenMethod"
   ]
  },
  {
   "cell_type": "code",
   "execution_count": null,
   "id": "0f39228e-33ad-45c0-b532-5daadbc1dc73",
   "metadata": {},
   "outputs": [],
   "source": [
    "plt.figure(figsize=(15,5))\n",
    "plt.subplot(1,2,1)\n",
    "plt.pie(\n",
    "    data_PaymenMethod.values,\n",
    "    labels = data_PaymenMethod.index,\n",
    "    autopct='%.3f%%',\n",
    "    startangle=90,\n",
    "    labeldistance=1.09\n",
    ")    \n",
    "plt.title('Biểu đồ thể hiện tỉ lệ người sử dụng pttt')\n",
    "plt.subplot(1,2,2)\n",
    "plt.bar(\n",
    "    data_PaymenMethod.index,\n",
    "    data_PaymenMethod.values,\n",
    ")\n",
    "plt.grid(ls='--')\n",
    "plt.ylabel('Số người')\n",
    "# plt.xlabel('Phương thức thanh toán')\n",
    "plt.xticks(rotation = 30)\n",
    "plt.show()"
   ]
  },
  {
   "cell_type": "code",
   "execution_count": null,
   "id": "5e6010ac-c439-42d4-9189-ceac9b29bd8d",
   "metadata": {},
   "outputs": [],
   "source": [
    "data_MonthlyCharges = data['Phí hàng tháng'].value_counts()\n",
    "data['Phí hàng tháng'].describe()"
   ]
  },
  {
   "cell_type": "code",
   "execution_count": null,
   "id": "1751eba7-afe5-4e9e-a6c5-15508b59a9d4",
   "metadata": {},
   "outputs": [],
   "source": [
    "plt.title('Biểu đồ thể hiện số tiền mà khách hàng trả mỗi tháng')\n",
    "plt.bar(\n",
    "    data_MonthlyCharges.index,\n",
    "    data_MonthlyCharges.values,\n",
    ")\n",
    "plt.grid(ls='--')\n",
    "plt.ylabel('Số người')\n",
    "plt.xticks(rotation = 30)\n",
    "plt.show()"
   ]
  },
  {
   "cell_type": "code",
   "execution_count": null,
   "id": "c31e3e7e-6ac3-4b4a-922d-3c9574c03226",
   "metadata": {},
   "outputs": [],
   "source": []
  }
 ],
 "metadata": {
  "kernelspec": {
   "display_name": "Python 3 (ipykernel)",
   "language": "python",
   "name": "python3"
  },
  "language_info": {
   "codemirror_mode": {
    "name": "ipython",
    "version": 3
   },
   "file_extension": ".py",
   "mimetype": "text/x-python",
   "name": "python",
   "nbconvert_exporter": "python",
   "pygments_lexer": "ipython3",
   "version": "3.12.4"
  }
 },
 "nbformat": 4,
 "nbformat_minor": 5
}
